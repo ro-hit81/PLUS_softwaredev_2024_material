{
 "cells": [
  {
   "cell_type": "code",
   "execution_count": 1,
   "id": "243f7471-dcb1-4a99-b869-93a1fe87ef08",
   "metadata": {},
   "outputs": [],
   "source": [
    "# This is single-line comment. Use a hash for this!"
   ]
  },
  {
   "cell_type": "code",
   "execution_count": null,
   "id": "fc71a8de-4660-43c3-a501-4d3e52ab6c2b",
   "metadata": {},
   "outputs": [],
   "source": []
  }
 ],
 "metadata": {
  "kernelspec": {
   "display_name": "Python 3 (ipykernel)",
   "language": "python",
   "name": "python3"
  },
  "language_info": {
   "codemirror_mode": {
    "name": "ipython",
    "version": 3
   },
   "file_extension": ".py",
   "mimetype": "text/x-python",
   "name": "python",
   "nbconvert_exporter": "python",
   "pygments_lexer": "ipython3",
   "version": "3.9.18"
  }
 },
 "nbformat": 4,
 "nbformat_minor": 5
}
