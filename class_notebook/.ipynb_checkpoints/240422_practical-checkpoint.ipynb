{
 "cells": [
  {
   "cell_type": "code",
   "execution_count": 1,
   "id": "75fbb2da-1268-4e91-ace7-8e0d6874204a",
   "metadata": {},
   "outputs": [],
   "source": [
    "players =['Ronaldo', 'Messi', 'Kroos','Lewandowski']\n",
    "\n",
    "def footballers(my_list):\n",
    "    print(f'There are {len(my_list)} players in my list.')\n",
    "    print('Now I will sort out the player name. ')\n",
    "    print(sorted(my_list))"
   ]
  },
  {
   "cell_type": "code",
   "execution_count": 2,
   "id": "102b43ab-58df-4cb6-9e94-644129f54ff5",
   "metadata": {},
   "outputs": [
    {
     "name": "stdout",
     "output_type": "stream",
     "text": [
      "There are 4 players in my list.\n",
      "Now I will sort out the player name. \n",
      "['Kroos', 'Lewandowski', 'Messi', 'Ronaldo']\n"
     ]
    }
   ],
   "source": [
    "footballers(players)"
   ]
  },
  {
   "cell_type": "code",
   "execution_count": null,
   "id": "93a36708-8205-44dc-878b-8d5f766f59b6",
   "metadata": {},
   "outputs": [],
   "source": []
  }
 ],
 "metadata": {
  "kernelspec": {
   "display_name": "Python 3 (ipykernel)",
   "language": "python",
   "name": "python3"
  },
  "language_info": {
   "codemirror_mode": {
    "name": "ipython",
    "version": 3
   },
   "file_extension": ".py",
   "mimetype": "text/x-python",
   "name": "python",
   "nbconvert_exporter": "python",
   "pygments_lexer": "ipython3",
   "version": "3.11.7"
  }
 },
 "nbformat": 4,
 "nbformat_minor": 5
}
