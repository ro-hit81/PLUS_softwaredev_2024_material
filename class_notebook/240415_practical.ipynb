{
 "cells": [
  {
   "cell_type": "code",
   "execution_count": 1,
   "id": "243f7471-dcb1-4a99-b869-93a1fe87ef08",
   "metadata": {},
   "outputs": [],
   "source": [
    "# This is single-line comment. Use a hash for this!"
   ]
  },
  {
   "cell_type": "code",
   "execution_count": 2,
   "id": "fc71a8de-4660-43c3-a501-4d3e52ab6c2b",
   "metadata": {},
   "outputs": [
    {
     "data": {
      "text/plain": [
       "'\\nHalo. Ich bin Rohit. I already know what we are doing in this class.\\n'"
      ]
     },
     "execution_count": 2,
     "metadata": {},
     "output_type": "execute_result"
    }
   ],
   "source": [
    "\"\"\"\n",
    "Halo. Ich bin Rohit. I already know what we are doing in this class.\n",
    "\"\"\""
   ]
  },
  {
   "cell_type": "code",
   "execution_count": 3,
   "id": "f9ecd40b-d656-4ccd-b8a2-f9138bb60e83",
   "metadata": {},
   "outputs": [],
   "source": [
    "number = 24\n",
    "text = \"This is text.\"\n",
    "text_dup = 'This is also text.'\n",
    "number_1 = 45.7\n",
    "boolean = False\n",
    "variable = None"
   ]
  },
  {
   "cell_type": "code",
   "execution_count": 4,
   "id": "3c4e4dad-1118-4c45-b90c-4df3a950092d",
   "metadata": {},
   "outputs": [
    {
     "name": "stdout",
     "output_type": "stream",
     "text": [
      "a, sdsfadfsdfsdfsdffsdfsfsdf\n"
     ]
    }
   ],
   "source": [
    "x= (\"a, \"\n",
    "    \"sdsfadfsdfsdfsdf\"\n",
    "    \"fsdfsfsdf\")\n",
    "print(x)"
   ]
  },
  {
   "cell_type": "code",
   "execution_count": 5,
   "id": "99c8ed98-b3c0-435d-b37e-4ea8c78f2b86",
   "metadata": {},
   "outputs": [
    {
     "data": {
      "text/plain": [
       "int"
      ]
     },
     "execution_count": 5,
     "metadata": {},
     "output_type": "execute_result"
    }
   ],
   "source": [
    "x = 12\n",
    "type(x)"
   ]
  },
  {
   "cell_type": "code",
   "execution_count": 6,
   "id": "0d9bbe73-fdad-4942-a6c0-a7abfa23177d",
   "metadata": {},
   "outputs": [
    {
     "data": {
      "text/plain": [
       "float"
      ]
     },
     "execution_count": 6,
     "metadata": {},
     "output_type": "execute_result"
    }
   ],
   "source": [
    "y=4.6\n",
    "type(y)"
   ]
  },
  {
   "cell_type": "code",
   "execution_count": 7,
   "id": "f4f99de0-9092-410f-9906-a80719908a4f",
   "metadata": {},
   "outputs": [
    {
     "data": {
      "text/plain": [
       "5"
      ]
     },
     "execution_count": 7,
     "metadata": {},
     "output_type": "execute_result"
    }
   ],
   "source": [
    "round(y)"
   ]
  },
  {
   "cell_type": "code",
   "execution_count": 8,
   "id": "2531609b-ec5c-4bc5-885f-f5f6e80eb1af",
   "metadata": {},
   "outputs": [
    {
     "name": "stdout",
     "output_type": "stream",
     "text": [
      "('This is a tuple', 'that contains', 'both strings', 'and number: ', 234, 234234.13414124)\n"
     ]
    },
    {
     "data": {
      "text/plain": [
       "tuple"
      ]
     },
     "execution_count": 8,
     "metadata": {},
     "output_type": "execute_result"
    }
   ],
   "source": [
    "tuple_1 = (\"This is a tuple\", \"that contains\", \"both strings\", \"and number: \", 234, 234234.13414124)\n",
    "print(tuple_1)\n",
    "type(tuple_1)"
   ]
  },
  {
   "cell_type": "code",
   "execution_count": 9,
   "id": "69df02ed-7285-47df-bfa7-b9532da99fbc",
   "metadata": {},
   "outputs": [],
   "source": [
    "list_1 = [\"This is a tuple\", \"that contains\", \"both strings\", \"and number: \", 234, 234234.13414124]"
   ]
  },
  {
   "cell_type": "code",
   "execution_count": 10,
   "id": "a5e017f7-1373-4ca2-9c75-ecfa6059b3e9",
   "metadata": {},
   "outputs": [
    {
     "data": {
      "text/plain": [
       "'This is a tuple'"
      ]
     },
     "execution_count": 10,
     "metadata": {},
     "output_type": "execute_result"
    }
   ],
   "source": [
    "list_1[0]"
   ]
  },
  {
   "cell_type": "code",
   "execution_count": 11,
   "id": "9fdbc23c-26fd-457d-a4a3-675980527b90",
   "metadata": {},
   "outputs": [
    {
     "name": "stdout",
     "output_type": "stream",
     "text": [
      "['This is a tuple', 'that contains', 'both strings', 'and number: ', 234, 31324.2312314]\n"
     ]
    }
   ],
   "source": [
    "list_1[5] = 31324.2312314\n",
    "print(list_1)"
   ]
  },
  {
   "cell_type": "code",
   "execution_count": 12,
   "id": "a443bef7-0c98-4ebf-9b1d-34420db20a44",
   "metadata": {},
   "outputs": [
    {
     "data": {
      "text/plain": [
       "234234.13414124"
      ]
     },
     "execution_count": 12,
     "metadata": {},
     "output_type": "execute_result"
    }
   ],
   "source": [
    "tuple_1[5]"
   ]
  },
  {
   "cell_type": "code",
   "execution_count": 13,
   "id": "43c2a587-43c6-4acc-99fd-7f668ec33ecd",
   "metadata": {},
   "outputs": [
    {
     "name": "stdout",
     "output_type": "stream",
     "text": [
      "Not useful, Dont want to show error in my notebook.\n"
     ]
    }
   ],
   "source": [
    "try:\n",
    "    tuple_1[5] = 343454.22231242\n",
    "\n",
    "except:\n",
    "    print(\"Not useful, Dont want to show error in my notebook.\")"
   ]
  },
  {
   "cell_type": "code",
   "execution_count": 14,
   "id": "9f549e49-4194-4b17-ba04-3c97b1781f18",
   "metadata": {},
   "outputs": [],
   "source": [
    "this_dict={\n",
    "    'name': 'Rohit',\n",
    "    'style': 'Hub',\n",
    "    'age': 'is secret'\n",
    "}"
   ]
  },
  {
   "cell_type": "code",
   "execution_count": 15,
   "id": "30fb5555-0c72-4a50-b69b-4477eb0c848c",
   "metadata": {},
   "outputs": [
    {
     "data": {
      "text/plain": [
       "'Rohit'"
      ]
     },
     "execution_count": 15,
     "metadata": {},
     "output_type": "execute_result"
    }
   ],
   "source": [
    "this_dict['name']"
   ]
  },
  {
   "cell_type": "code",
   "execution_count": 16,
   "id": "7a83a4db-ac8e-490d-a329-b200bea7f51f",
   "metadata": {},
   "outputs": [
    {
     "name": "stdout",
     "output_type": "stream",
     "text": [
      "b is greater than a\n"
     ]
    }
   ],
   "source": [
    "a = 23\n",
    "b = 200\n",
    "if b > a:\n",
    "    print(\"b is greater than a\")"
   ]
  },
  {
   "cell_type": "code",
   "execution_count": 17,
   "id": "50dba07e-6c09-40e2-82fb-8481622174a2",
   "metadata": {},
   "outputs": [
    {
     "name": "stdout",
     "output_type": "stream",
     "text": [
      "Real Madrid\n",
      "Bayern Munchen\n",
      "Manchester United\n"
     ]
    }
   ],
   "source": [
    "clubs =[\"Real Madrid\", \"Bayern Munchen\", \"Manchester United\"]\n",
    "for club in clubs:\n",
    "    print(club)"
   ]
  },
  {
   "cell_type": "code",
   "execution_count": 18,
   "id": "6321e602-f003-48c9-80db-1cb0e501fbbe",
   "metadata": {},
   "outputs": [
    {
     "name": "stdout",
     "output_type": "stream",
     "text": [
      "0\n",
      "1\n",
      "2\n",
      "3\n",
      "4\n",
      "5\n",
      "6\n",
      "7\n",
      "8\n",
      "9\n"
     ]
    }
   ],
   "source": [
    "a=0\n",
    "while a < 10:\n",
    "    print(a)\n",
    "    a=a+1"
   ]
  },
  {
   "cell_type": "code",
   "execution_count": 19,
   "id": "3dcdab57-7043-4139-b3c1-73e927e89a2d",
   "metadata": {},
   "outputs": [],
   "source": [
    "def my_story():\n",
    "    print(\"Ich bin Rohit, Ich bin nict Deutch, but I am trying to speak Deucth. I havent been to Deutchland.\")"
   ]
  },
  {
   "cell_type": "code",
   "execution_count": 20,
   "id": "7717df4c-e9ca-49e7-ad85-26151572c59a",
   "metadata": {},
   "outputs": [
    {
     "name": "stdout",
     "output_type": "stream",
     "text": [
      "Ich bin Rohit, Ich bin nict Deutch, but I am trying to speak Deucth. I havent been to Deutchland.\n"
     ]
    }
   ],
   "source": [
    "my_story()"
   ]
  },
  {
   "cell_type": "code",
   "execution_count": 21,
   "id": "1a67c23b-3949-45f9-8449-ce1cb437b7bf",
   "metadata": {},
   "outputs": [
    {
     "data": {
      "text/plain": [
       "'Real Madrid'"
      ]
     },
     "execution_count": 21,
     "metadata": {},
     "output_type": "execute_result"
    }
   ],
   "source": [
    "import random\n",
    "random.choice(clubs)"
   ]
  },
  {
   "cell_type": "code",
   "execution_count": 22,
   "id": "6b8be68c-48d2-48c6-90e3-468c4068378b",
   "metadata": {},
   "outputs": [
    {
     "name": "stdout",
     "output_type": "stream",
     "text": [
      "(1, 'sugar')\n",
      "(2, 'yes')\n",
      "(3, 'please')\n"
     ]
    }
   ],
   "source": [
    "for item in zip([1, 2, 3], ['sugar', 'yes', 'please']):\n",
    "    print(item)"
   ]
  },
  {
   "cell_type": "code",
   "execution_count": 26,
   "id": "8b0a4d85-e475-4a36-b289-1a31efe91844",
   "metadata": {
    "collapsed": true,
    "jupyter": {
     "outputs_hidden": true
    },
    "tags": []
   },
   "outputs": [
    {
     "data": {
      "text/plain": [
       "['ArithmeticError',\n",
       " 'AssertionError',\n",
       " 'AttributeError',\n",
       " 'BaseException',\n",
       " 'BlockingIOError',\n",
       " 'BrokenPipeError',\n",
       " 'BufferError',\n",
       " 'BytesWarning',\n",
       " 'ChildProcessError',\n",
       " 'ConnectionAbortedError',\n",
       " 'ConnectionError',\n",
       " 'ConnectionRefusedError',\n",
       " 'ConnectionResetError',\n",
       " 'DeprecationWarning',\n",
       " 'EOFError',\n",
       " 'Ellipsis',\n",
       " 'EnvironmentError',\n",
       " 'Exception',\n",
       " 'False',\n",
       " 'FileExistsError',\n",
       " 'FileNotFoundError',\n",
       " 'FloatingPointError',\n",
       " 'FutureWarning',\n",
       " 'GeneratorExit',\n",
       " 'IOError',\n",
       " 'ImportError',\n",
       " 'ImportWarning',\n",
       " 'IndentationError',\n",
       " 'IndexError',\n",
       " 'InterruptedError',\n",
       " 'IsADirectoryError',\n",
       " 'KeyError',\n",
       " 'KeyboardInterrupt',\n",
       " 'LookupError',\n",
       " 'MemoryError',\n",
       " 'ModuleNotFoundError',\n",
       " 'NameError',\n",
       " 'None',\n",
       " 'NotADirectoryError',\n",
       " 'NotImplemented',\n",
       " 'NotImplementedError',\n",
       " 'OSError',\n",
       " 'OverflowError',\n",
       " 'PendingDeprecationWarning',\n",
       " 'PermissionError',\n",
       " 'ProcessLookupError',\n",
       " 'RecursionError',\n",
       " 'ReferenceError',\n",
       " 'ResourceWarning',\n",
       " 'RuntimeError',\n",
       " 'RuntimeWarning',\n",
       " 'StopAsyncIteration',\n",
       " 'StopIteration',\n",
       " 'SyntaxError',\n",
       " 'SyntaxWarning',\n",
       " 'SystemError',\n",
       " 'SystemExit',\n",
       " 'TabError',\n",
       " 'TimeoutError',\n",
       " 'True',\n",
       " 'TypeError',\n",
       " 'UnboundLocalError',\n",
       " 'UnicodeDecodeError',\n",
       " 'UnicodeEncodeError',\n",
       " 'UnicodeError',\n",
       " 'UnicodeTranslateError',\n",
       " 'UnicodeWarning',\n",
       " 'UserWarning',\n",
       " 'ValueError',\n",
       " 'Warning',\n",
       " 'WindowsError',\n",
       " 'ZeroDivisionError',\n",
       " '__IPYTHON__',\n",
       " '__build_class__',\n",
       " '__debug__',\n",
       " '__doc__',\n",
       " '__import__',\n",
       " '__loader__',\n",
       " '__name__',\n",
       " '__package__',\n",
       " '__spec__',\n",
       " 'abs',\n",
       " 'all',\n",
       " 'any',\n",
       " 'ascii',\n",
       " 'bin',\n",
       " 'bool',\n",
       " 'breakpoint',\n",
       " 'bytearray',\n",
       " 'bytes',\n",
       " 'callable',\n",
       " 'chr',\n",
       " 'classmethod',\n",
       " 'compile',\n",
       " 'complex',\n",
       " 'copyright',\n",
       " 'credits',\n",
       " 'delattr',\n",
       " 'dict',\n",
       " 'dir',\n",
       " 'display',\n",
       " 'divmod',\n",
       " 'enumerate',\n",
       " 'eval',\n",
       " 'exec',\n",
       " 'filter',\n",
       " 'float',\n",
       " 'format',\n",
       " 'frozenset',\n",
       " 'get_ipython',\n",
       " 'getattr',\n",
       " 'globals',\n",
       " 'hasattr',\n",
       " 'hash',\n",
       " 'help',\n",
       " 'hex',\n",
       " 'id',\n",
       " 'input',\n",
       " 'int',\n",
       " 'isinstance',\n",
       " 'issubclass',\n",
       " 'iter',\n",
       " 'len',\n",
       " 'license',\n",
       " 'list',\n",
       " 'locals',\n",
       " 'map',\n",
       " 'max',\n",
       " 'memoryview',\n",
       " 'min',\n",
       " 'next',\n",
       " 'object',\n",
       " 'oct',\n",
       " 'open',\n",
       " 'ord',\n",
       " 'pow',\n",
       " 'print',\n",
       " 'property',\n",
       " 'range',\n",
       " 'repr',\n",
       " 'reversed',\n",
       " 'round',\n",
       " 'set',\n",
       " 'setattr',\n",
       " 'slice',\n",
       " 'sorted',\n",
       " 'staticmethod',\n",
       " 'str',\n",
       " 'sum',\n",
       " 'super',\n",
       " 'tuple',\n",
       " 'type',\n",
       " 'vars',\n",
       " 'zip']"
      ]
     },
     "execution_count": 26,
     "metadata": {},
     "output_type": "execute_result"
    }
   ],
   "source": [
    "import builtins\n",
    "dir(builtins)"
   ]
  },
  {
   "cell_type": "code",
   "execution_count": null,
   "id": "3d2d4c4c-ad95-4981-a012-8c70c3f07f5c",
   "metadata": {},
   "outputs": [],
   "source": []
  }
 ],
 "metadata": {
  "kernelspec": {
   "display_name": "Python 3 (ipykernel)",
   "language": "python",
   "name": "python3"
  },
  "language_info": {
   "codemirror_mode": {
    "name": "ipython",
    "version": 3
   },
   "file_extension": ".py",
   "mimetype": "text/x-python",
   "name": "python",
   "nbconvert_exporter": "python",
   "pygments_lexer": "ipython3",
   "version": "3.11.7"
  }
 },
 "nbformat": 4,
 "nbformat_minor": 5
}
