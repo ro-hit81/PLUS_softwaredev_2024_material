{
 "cells": [
  {
   "cell_type": "code",
   "execution_count": 1,
   "id": "67aabbb7-5faa-49d5-982d-093a46be8c6a",
   "metadata": {},
   "outputs": [],
   "source": [
    "import sys\n",
    "sys.path.append('../py')\n",
    "import learning\n",
    "from learning import func_from_py"
   ]
  },
  {
   "cell_type": "code",
   "execution_count": 2,
   "id": "75fbb2da-1268-4e91-ace7-8e0d6874204a",
   "metadata": {},
   "outputs": [],
   "source": [
    "players =['Ronaldo', 'Messi', 'Kroos','Lewandowski']\n",
    "\n",
    "def footballers(my_list):\n",
    "    print(f'There are {len(my_list)} players in my list.')\n",
    "    print('Now I will sort out the player name. ')\n",
    "    print(sorted(my_list))"
   ]
  },
  {
   "cell_type": "code",
   "execution_count": 3,
   "id": "102b43ab-58df-4cb6-9e94-644129f54ff5",
   "metadata": {},
   "outputs": [
    {
     "name": "stdout",
     "output_type": "stream",
     "text": [
      "There are 4 players in my list.\n",
      "Now I will sort out the player name. \n",
      "['Kroos', 'Lewandowski', 'Messi', 'Ronaldo']\n"
     ]
    }
   ],
   "source": [
    "footballers(players)"
   ]
  },
  {
   "cell_type": "code",
   "execution_count": 4,
   "id": "93a36708-8205-44dc-878b-8d5f766f59b6",
   "metadata": {},
   "outputs": [],
   "source": [
    "from datetime import datetime"
   ]
  },
  {
   "cell_type": "code",
   "execution_count": 5,
   "id": "206eb2fb-43c8-45ec-998d-ce27372d46ba",
   "metadata": {},
   "outputs": [
    {
     "name": "stdout",
     "output_type": "stream",
     "text": [
      "The time right now is :2024-04-22 11:57:18.930055\n"
     ]
    }
   ],
   "source": [
    "print(f'The time right now is :{datetime.now()}')"
   ]
  },
  {
   "cell_type": "code",
   "execution_count": 6,
   "id": "fbf0589c-66c0-402d-8bdc-9616a5a30f2e",
   "metadata": {},
   "outputs": [
    {
     "name": "stdout",
     "output_type": "stream",
     "text": [
      "There are 6 players in my list.\n",
      "Now I will sort out the player name. \n",
      "['bellingham', 'carvajal', 'militao', 'rodrgo', 'valverde', 'vinicius']\n"
     ]
    }
   ],
   "source": [
    "new_list = ['vinicius', 'rodrgo', 'valverde', 'bellingham', 'carvajal', 'militao']\n",
    "func_from_py(new_list)"
   ]
  },
  {
   "cell_type": "code",
   "execution_count": 8,
   "id": "ec296d33-9e8e-4c0a-b160-76aa19669ea8",
   "metadata": {},
   "outputs": [
    {
     "data": {
      "text/plain": [
       "'Mango'"
      ]
     },
     "execution_count": 8,
     "metadata": {},
     "output_type": "execute_result"
    }
   ],
   "source": [
    "learning.fruit"
   ]
  },
  {
   "cell_type": "code",
   "execution_count": null,
   "id": "3d807ee7-dcd4-4df5-9d86-df34f06c20eb",
   "metadata": {},
   "outputs": [],
   "source": []
  }
 ],
 "metadata": {
  "kernelspec": {
   "display_name": "Python 3 (ipykernel)",
   "language": "python",
   "name": "python3"
  },
  "language_info": {
   "codemirror_mode": {
    "name": "ipython",
    "version": 3
   },
   "file_extension": ".py",
   "mimetype": "text/x-python",
   "name": "python",
   "nbconvert_exporter": "python",
   "pygments_lexer": "ipython3",
   "version": "3.11.7"
  }
 },
 "nbformat": 4,
 "nbformat_minor": 5
}
